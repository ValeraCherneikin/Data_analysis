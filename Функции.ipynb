{
 "cells": [
  {
   "cell_type": "markdown",
   "metadata": {
    "toc": true
   },
   "source": [
    "<h1>Table of Contents<span class=\"tocSkip\"></span></h1>\n",
    "<div class=\"toc\"><ul class=\"toc-item\"><li><span><a href=\"#Тема-3.-Функции\" data-toc-modified-id=\"Тема-3.-Функции-1\"><span class=\"toc-item-num\">1&nbsp;&nbsp;</span>Тема 3. Функции</a></span></li><li><span><a href=\"#Задания\" data-toc-modified-id=\"Задания-2\"><span class=\"toc-item-num\">2&nbsp;&nbsp;</span>Задания</a></span></li></ul></div>"
   ]
  },
  {
   "cell_type": "markdown",
   "metadata": {},
   "source": [
    "\n",
    "# Тема 3. Функции"
   ]
  },
  {
   "cell_type": "markdown",
   "metadata": {},
   "source": [
    "# Задания\n",
    "\n",
    "Выполните задания\n",
    "\n"
   ]
  },
  {
   "cell_type": "markdown",
   "metadata": {},
   "source": [
    "1. Имеется список из 20 случайных чисел от 0 до 100. Напишите функцию, которая разбивает этот список на $n$ списков по $k$ элементов и включает все эти списки в новый список. Используйте $k$ в качестве параметра функции.\n",
    "\n",
    "2. Напишите функцию, вычисляющую факториал числа, передаваемого в качестве параметра.\n",
    "\n",
    "3. Написать функцию умножения, принимающую от одного до трех параметров. Функцию вызвать с приведенными ниже аргументами. Для случая a4 выбрать 3 первых и 3 последних значения.\n",
    "```\n",
    "a1 = (15, 10 ,5)\n",
    "a2 = (3, 1)\n",
    "a3 = [2, 35, 55]\n",
    "a4 = (5, 10 ,15, 20)\n",
    "```\n",
    "\n",
    "4. Напишите функцию, которая для заданного радиуса r вычисляет площадь круга и длину окружности. Функция возвращает кортеж из 2 значений.\n",
    "\n",
    "5. Реализовать функции для выполнения четырех арифметических операций, преобразующих целые числа в целое число. Создать словарь с функциями исоответствующими им симв олами операций. Для двух заранее заданных целых чисел (например, 25 и 4) выполнить выбранную пользователем арифметическую операцию.\n",
    "\n",
    "6. Написать калькулятор для строковых выражений вида '<число> <операция> <число>', где <число> - целое число, например 113, <арифметическая операция> - одна из операций `+,-,*,//,%,^`. Пример: `calc('13 - 5') -> 8`\n",
    "\n",
    "7. Написать функцию, которая преобразует целое число (от 0 до 999) из текстового представления на русском языке в число типа int. Пример: `to_int('тридцать три') -> 33`\n",
    "\n",
    "8. Написать функцию, которая преобразует целое число (от 0 до 999) из текстового представления на русском языке в число типа int. И сообщает об ошибках (выводит на экран описание типа ошибки и возвращает число -1). Пример: to_int('тридцать три') -> 33 Пример: to_int(\"сто сорок тридцать два сто\") -> -1 Вывод: тридцать - некорректное расположение в числе."
   ]
  },
  {
   "cell_type": "code",
   "execution_count": 2,
   "metadata": {},
   "outputs": [
    {
     "name": "stdout",
     "output_type": "stream",
     "text": [
      "[[62, 17, 8, 77, 32], [73, 20, 77, 4, 99], [4, 57, 84, 95, 46], [40, 15, 98, 95, 94]]\n"
     ]
    }
   ],
   "source": [
    "\"\"\"Имеется список из 20 случайных чисел от 0 до 100. \n",
    "Напишите функцию, которая разбивает этот список на $n$ списков по $k$ элементов и включает все эти списки в новый список. Используйте \n",
    "$k$ в качестве параметра функции.\"\"\"\n",
    "import random\n",
    "\n",
    "def split_list(lst, k):\n",
    "    return [lst[i:i+k] for i in range(0, len(lst), k)]\n",
    "\n",
    "lst = [random.randint(0, 100) for _ in range(20)]\n",
    "print(split_list(lst, 5))  # разбить список на списки по 5 элементов"
   ]
  },
  {
   "cell_type": "code",
   "execution_count": 3,
   "metadata": {},
   "outputs": [
    {
     "name": "stdout",
     "output_type": "stream",
     "text": [
      "120\n"
     ]
    }
   ],
   "source": [
    "\"\"\"Напишите функцию, вычисляющую факториал числа, передаваемого в качестве параметра.\"\"\"\n",
    "def factorial(n):\n",
    "    if n == 0:\n",
    "        return 1\n",
    "    else:\n",
    "        return n * factorial(n-1)\n",
    "\n",
    "print(factorial(5))  # вычислить факториал числа 5"
   ]
  },
  {
   "cell_type": "code",
   "execution_count": 4,
   "metadata": {},
   "outputs": [
    {
     "name": "stdout",
     "output_type": "stream",
     "text": [
      "750\n",
      "3\n",
      "3850\n",
      "750\n",
      "3000\n"
     ]
    }
   ],
   "source": [
    "\"\"\"\n",
    "3. Написать функцию умножения, принимающую от одного до трех параметров. \n",
    "Функцию вызвать с приведенными ниже аргументами. Для случая a4 выбрать 3 первых и 3 последних значения.\n",
    "```\n",
    "a1 = (15, 10 ,5)\n",
    "a2 = (3, 1)\n",
    "a3 = [2, 35, 55]\n",
    "a4 = (5, 10 ,15, 20)\n",
    "```\"\"\"\n",
    "def multiply(*args):\n",
    "    if len(args) == 1:\n",
    "        return args[0]\n",
    "    elif len(args) == 2:\n",
    "        return args[0] * args[1]\n",
    "    elif len(args) == 3:\n",
    "        return args[0] * args[1] * args[2]\n",
    "\n",
    "a1 = (15, 10 ,5)\n",
    "a2 = (3, 1)\n",
    "a3 = [2, 35, 55]\n",
    "a4 = (5, 10 ,15, 20)\n",
    "\n",
    "print(multiply(*a1))  # умножить все элементы кортежа a1\n",
    "print(multiply(*a2))  # умножить все элементы кортежа a2\n",
    "print(multiply(*a3))  # умножить все элементы списка a3\n",
    "print(multiply(*a4[:3]))  # умножить первые 3 элемента кортежа a4\n",
    "print(multiply(*a4[-3:]))  # умножить последние 3 элемента кортежа a4"
   ]
  },
  {
   "cell_type": "code",
   "execution_count": null,
   "metadata": {},
   "outputs": [],
   "source": [
    "\"\"\" Напишите функцию, которая для заданного радиуса r вычисляет площадь круга и длину окружности. \n",
    "Функция возвращает кортеж из 2 значений.\"\"\"\n",
    "import math\n",
    "\n",
    "def circle_info(r):\n",
    "    area = math.pi * r ** 2\n",
    "    circumference = 2 * math.pi * r\n",
    "    return (area, circumference)\n",
    "\n",
    "print(circle_info(5))  # вычислить площадь и длину окружности для круга с радиусом 5"
   ]
  },
  {
   "cell_type": "code",
   "execution_count": 5,
   "metadata": {},
   "outputs": [
    {
     "name": "stdout",
     "output_type": "stream",
     "text": [
      "(78.53981633974483, 31.41592653589793)\n"
     ]
    }
   ],
   "source": [
    "\"\"\"Реализовать функции для выполнения четырех арифметических операций, преобразующих целые числа в целое число. \n",
    "Создать словарь с функциями исоответствующими им симв олами операций. Для двух заранее заданных целых чисел (например, 25 и 4) \n",
    "выполнить выбранную пользователем арифметическую операцию.\"\"\"\n",
    "import math\n",
    "\n",
    "def add(x, y):\n",
    "    return x + y\n",
    "\n",
    "def subtract(x, y):\n",
    "    return x - y\n",
    "\n",
    "def multiply(x, y):\n",
    "    return x * y\n",
    "\n",
    "def divide(x, y):\n",
    "    return x // y\n",
    "\n",
    "operations = {\n",
    "    '+': add,\n",
    "    '-': subtract,\n",
    "    '*': multiply,\n",
    "    '/': divide\n",
    "}\n",
    "\n",
    "x, y = 25, 4\n",
    "operation = input(\"Введите операцию (+, -, *, /): \")\n",
    "result = operations[operation](x, y)\n",
    "print(result)  # выполнить выбранную пользователем арифметическую операцию для чисел x и y"
   ]
  },
  {
   "cell_type": "code",
   "execution_count": null,
   "metadata": {},
   "outputs": [],
   "source": [
    "\"\"\"Написать калькулятор для строковых выражений вида '<число> <операция> <число>', где <число> - целое число, например 113, \n",
    "<арифметическая операция> - одна из операций `+,-,*,//,%,^`. Пример: `calc('13 - 5') -> 8`\"\"\"\n",
    "def calc(expression):\n",
    "    parts = expression.split()\n",
    "    x, op, y = int(parts[0]), parts[1], int(parts[2])\n",
    "    if op == '+':\n",
    "        return x + y\n",
    "    elif op == '-':\n",
    "        return x - y\n",
    "    elif op == '*':\n",
    "        return x * y\n",
    "    elif op == '//':\n",
    "        return x // y\n",
    "    elif op == '%':\n",
    "        return x % y\n",
    "    elif op == '^':\n",
    "        return x ** y\n",
    "\n",
    "print(calc('13 - 5'))  # вычислить результат выражения '13 - 5'"
   ]
  },
  {
   "cell_type": "code",
   "execution_count": 7,
   "metadata": {},
   "outputs": [
    {
     "name": "stdout",
     "output_type": "stream",
     "text": [
      "33\n"
     ]
    }
   ],
   "source": [
    "\"\"\"Написать функцию, которая преобразует целое число (от 0 до 999) из текстового представления \n",
    "на русском языке в число типа int. Пример: `to_int('тридцать три') -> 33`\"\"\"\n",
    "def to_int(text):\n",
    "    numbers = {\n",
    "        'ноль': 0,\n",
    "        'один': 1,\n",
    "        'два': 2,\n",
    "        'три': 3,\n",
    "        'четыре': 4,\n",
    "        'пять': 5,\n",
    "        'шесть': 6,\n",
    "        'семь': 7,\n",
    "        'восемь': 8,\n",
    "        'девять': 9,\n",
    "        'десять': 10,\n",
    "        'одиннадцать': 11,\n",
    "        'двенадцать': 12,\n",
    "        'тринадцать': 13,\n",
    "        'четырнадцать': 14,\n",
    "        'пятнадцать': 15,\n",
    "        'шестнадцать': 16,\n",
    "        'семнадцать': 17,\n",
    "        'восемнадцать': 18,\n",
    "        'девятнадцать': 19,\n",
    "        'двадцать': 20,\n",
    "        'тридцать': 30,\n",
    "        'сорок': 40,\n",
    "        'пятьдесят': 50,\n",
    "        'шестьдесят': 60,\n",
    "        'семьдесят': 70,\n",
    "        'восемьдесят': 80,\n",
    "        'девяносто': 90,\n",
    "        'сто': 100,\n",
    "        'двести': 200,\n",
    "        'триста': 300,\n",
    "        'четыреста': 400,\n",
    "        'пятьсот': 500,\n",
    "        'шестьсот': 600,\n",
    "        'семьсот': 700,\n",
    "        'восемьсот': 800,\n",
    "        'девятьсот': 900\n",
    "    }\n",
    "    words = text.split()\n",
    "    result = 0\n",
    "    for i in range(len(words)):\n",
    "        if words[i] == 'и':\n",
    "            continue\n",
    "        elif i == len(words) - 1:\n",
    "            result += numbers[words[i]]\n",
    "        elif numbers[words[i]] < numbers[words[i+1]]:\n",
    "            result -= numbers[words[i]]\n",
    "        else:\n",
    "            result += numbers[words[i]]\n",
    "    return result\n",
    "\n",
    "print(to_int('тридцать три'))  # преобразовать текстовое представление числа 'тридцать три' в число типа int"
   ]
  },
  {
   "cell_type": "code",
   "execution_count": 8,
   "metadata": {},
   "outputs": [
    {
     "name": "stdout",
     "output_type": "stream",
     "text": [
      "33\n",
      "два - некорректное расположение в числе\n",
      "-1\n"
     ]
    }
   ],
   "source": [
    "\"\"\"Написать функцию, которая преобразует целое число (от 0 до 999) из текстового представления на русском языке в число типа int. \n",
    "И сообщает об ошибках (выводит на экран описание типа ошибки и возвращает число -1). Пример: to_int('тридцать три') -> 33\n",
    "Пример: to_int(\"сто сорок тридцать два сто\") -> -1 Вывод: тридцать - некорректное расположение в числе.\"\"\"\n",
    "def to_int(text):\n",
    "    numbers = {\n",
    "        'ноль': 0,\n",
    "        'один': 1,\n",
    "        'два': 2,\n",
    "        'три': 3,\n",
    "        'четыре': 4,\n",
    "        'пять': 5,\n",
    "        'шесть': 6,\n",
    "        'семь': 7,\n",
    "        'восемь': 8,\n",
    "        'девять': 9,\n",
    "        'десять': 10,\n",
    "        'одиннадцать': 11,\n",
    "        'двенадцать': 12,\n",
    "        'тринадцать': 13,\n",
    "        'четырнадцать': 14,\n",
    "        'пятнадцать': 15,\n",
    "        'шестнадцать': 16,\n",
    "        'семнадцать': 17,\n",
    "        'восемнадцать': 18,\n",
    "        'девятнадцать': 19,\n",
    "        'двадцать': 20,\n",
    "        'тридцать': 30,\n",
    "        'сорок': 40,\n",
    "        'пятьдесят': 50,\n",
    "        'шестьдесят': 60,\n",
    "        'семьдесят': 70,\n",
    "        'восемьдесят': 80,\n",
    "        'девяносто': 90,\n",
    "        'сто': 100,\n",
    "        'двести': 200,\n",
    "        'триста': 300,\n",
    "        'четыреста': 400,\n",
    "        'пятьсот': 500,\n",
    "        'шестьсот': 600,\n",
    "        'семьсот': 700,\n",
    "        'восемьсот': 800,\n",
    "        'девятьсот': 900\n",
    "    }\n",
    "    words = text.split()\n",
    "    result = 0\n",
    "    last_number = 0\n",
    "    for i in range(len(words)):\n",
    "        if words[i] == 'и':\n",
    "            continue\n",
    "        elif numbers.get(words[i]) is None:\n",
    "            print(f\"{words[i]} - некорректное слово в числе\")\n",
    "            return -1\n",
    "        elif i == len(words) - 1:\n",
    "            last_number = numbers[words[i]]\n",
    "            result += last_number\n",
    "        elif numbers[words[i]] < numbers[words[i+1]]:\n",
    "            if last_number > 0:\n",
    "                print(f\"{words[i]} - некорректное расположение в числе\")\n",
    "                return -1\n",
    "            result -= numbers[words[i]]\n",
    "        else:\n",
    "            last_number = numbers[words[i]]\n",
    "            result += last_number\n",
    "    return result\n",
    "\n",
    "print(to_int('тридцать три'))  # преобразовать текстовое представление числа 'тридцать три' в число типа int\n",
    "print(to_int(\"сто сорок тридцать два сто\"))  # вывести ошибку и вернуть -1"
   ]
  }
 ],
 "metadata": {
  "kernelspec": {
   "display_name": "Python 3 (ipykernel)",
   "language": "python",
   "name": "python3"
  },
  "language_info": {
   "codemirror_mode": {
    "name": "ipython",
    "version": 3
   },
   "file_extension": ".py",
   "mimetype": "text/x-python",
   "name": "python",
   "nbconvert_exporter": "python",
   "pygments_lexer": "ipython3",
   "version": "3.11.5"
  },
  "toc": {
   "base_numbering": 1,
   "nav_menu": {},
   "number_sections": true,
   "sideBar": true,
   "skip_h1_title": false,
   "title_cell": "Table of Contents",
   "title_sidebar": "Contents",
   "toc_cell": true,
   "toc_position": {},
   "toc_section_display": true,
   "toc_window_display": false
  },
  "varInspector": {
   "cols": {
    "lenName": 16,
    "lenType": 16,
    "lenVar": 40
   },
   "kernels_config": {
    "python": {
     "delete_cmd_postfix": "",
     "delete_cmd_prefix": "del ",
     "library": "var_list.py",
     "varRefreshCmd": "print(var_dic_list())"
    },
    "r": {
     "delete_cmd_postfix": ") ",
     "delete_cmd_prefix": "rm(",
     "library": "var_list.r",
     "varRefreshCmd": "cat(var_dic_list()) "
    }
   },
   "types_to_exclude": [
    "module",
    "function",
    "builtin_function_or_method",
    "instance",
    "_Feature"
   ],
   "window_display": false
  }
 },
 "nbformat": 4,
 "nbformat_minor": 4
}
