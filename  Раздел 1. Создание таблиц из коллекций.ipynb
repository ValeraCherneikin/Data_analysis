{
 "cells": [
  {
   "cell_type": "markdown",
   "metadata": {
    "toc": true
   },
   "source": [
    "<h1>Table of Contents<span class=\"tocSkip\"></span></h1>\n",
    "<div class=\"toc\"><ul class=\"toc-item\"><li><span><a href=\"#Библиотека-Pandas\" data-toc-modified-id=\"Библиотека-Pandas-1\"><span class=\"toc-item-num\">1&nbsp;&nbsp;</span>Библиотека Pandas</a></span></li><li><span><a href=\"#Раздел-1.-Создание-таблиц-из-коллекций\" data-toc-modified-id=\"Раздел-1.-Создание-таблиц-из-коллекций-2\"><span class=\"toc-item-num\">2&nbsp;&nbsp;</span>Раздел 1. Создание таблиц из коллекций</a></span></li><li><span><a href=\"#Раздел-2.-Извлечение-данных-по-условию\" data-toc-modified-id=\"Раздел-2.-Извлечение-данных-по-условию-3\"><span class=\"toc-item-num\">3&nbsp;&nbsp;</span>Раздел 2. Извлечение данных по условию</a></span><ul class=\"toc-item\"><li><ul class=\"toc-item\"><li><span><a href=\"#Работа-с-набором-данных-Financial-Sample\" data-toc-modified-id=\"Работа-с-набором-данных-Financial-Sample-3.0.1\"><span class=\"toc-item-num\">3.0.1&nbsp;&nbsp;</span>Работа с набором данных <em>Financial Sample</em></a></span></li><li><span><a href=\"#Извлечение-данных-по-условию\" data-toc-modified-id=\"Извлечение-данных-по-условию-3.0.2\"><span class=\"toc-item-num\">3.0.2&nbsp;&nbsp;</span>Извлечение данных по условию</a></span></li></ul></li><li><span><a href=\"#Раздел-3.-Группировка-данных\" data-toc-modified-id=\"Раздел-3.-Группировка-данных-3.1\"><span class=\"toc-item-num\">3.1&nbsp;&nbsp;</span>Раздел 3. Группировка данных</a></span></li></ul></li></ul></div>"
   ]
  },
  {
   "cell_type": "markdown",
   "metadata": {
    "id": "2Yn_cT5q5eWw"
   },
   "source": [
    "\n",
    "\n",
    "# Библиотека Pandas"
   ]
  },
  {
   "cell_type": "code",
   "execution_count": 1,
   "metadata": {
    "id": "O3_eV5N1mBsX"
   },
   "outputs": [],
   "source": [
    "import pandas as pd\n"
   ]
  },
  {
   "cell_type": "markdown",
   "metadata": {},
   "source": [
    "# Раздел 1. Создание таблиц из коллекций"
   ]
  },
  {
   "cell_type": "markdown",
   "metadata": {
    "id": "5lpvxhPt14Rz"
   },
   "source": [
    "<p style=\"font-size:125%; color:#119988; background-color:#EEE\">Задание 1.1</p>\n",
    "\n",
    "Имеется *серия*, содержащая числа от 10 до 1000. Какое число содержит элемент с индексом 175? Вычислите разность элементов с индексами 900 и 16."
   ]
  },
  {
   "cell_type": "code",
   "execution_count": 1,
   "metadata": {
    "id": "dwKG6XBG2aGI"
   },
   "outputs": [
    {
     "name": "stdout",
     "output_type": "stream",
     "text": [
      "Число с индексом 175: 185\n",
      "Разность элементов с индексами 900 и 16: 884\n"
     ]
    }
   ],
   "source": [
    "# 1.1. Ваш код здесь\n",
    "import pandas as pd\n",
    "\n",
    "s = pd.Series(range(10, 1001))\n",
    "\n",
    "num_175 = s[175]\n",
    "diff_900_16 = s[900] - s[16]\n",
    "\n",
    "print(\"Число с индексом 175:\", num_175)\n",
    "print(\"Разность элементов с индексами 900 и 16:\", diff_900_16)\n",
    "\n"
   ]
  },
  {
   "cell_type": "markdown",
   "metadata": {
    "id": "KxLDOxlXHcnw"
   },
   "source": [
    "<p style=\"font-size:125%; color:#119988; background-color:#EEE\">Задание 1.2</p>\n",
    "\n",
    "Мебельная фабрика выпускает продукцию  наименований: диваны, кровати, трюмо. Создайте таблицу *DatаFrame*, содержащую: количество призведенной продукции каждого наименования, остаток на складе фабрики. Наименования разместите в строках, а количество и остаток в столбцах."
   ]
  },
  {
   "cell_type": "code",
   "execution_count": 3,
   "metadata": {
    "id": "dwKG6XBG2aGI"
   },
   "outputs": [
    {
     "name": "stdout",
     "output_type": "stream",
     "text": [
      "  Наименование  Количество  Остаток\n",
      "0       диваны         100       20\n",
      "1      кровати         200       50\n",
      "2        трюмо         150       30\n"
     ]
    }
   ],
   "source": [
    "# 1.2. Ваш код здесь\n",
    "import pandas as pd\n",
    "\n",
    "data = {'Наименование': ['диваны', 'кровати', 'трюмо'],\n",
    "        'Количество': [100, 200, 150],\n",
    "        'Остаток': [20, 50, 30]}\n",
    "\n",
    "df = pd.DataFrame(data)\n",
    "\n",
    "print(df)\n"
   ]
  },
  {
   "cell_type": "markdown",
   "metadata": {
    "id": "4-VMbARUiXxB"
   },
   "source": [
    "<p style=\"font-size:125%; color:#119988; background-color:#EEE\">Задание 1.3</p>\n",
    "\n",
    "Разделите столбец **car** таблицы **market** на два столбца: **mark** (марка) и **model** (модель).\n",
    "\n",
    "```\n",
    "market = pd.DataFrame({'car':['Lada Granta','Lada Vesta','Kia Rio','Hyunday Creta'], \n",
    "                       'year':[2019,2018,2010,2015], \n",
    "                       'condition':[75,104,20,90], 'km':[130000,210000,75000,94000]})\n",
    "```"
   ]
  },
  {
   "cell_type": "code",
   "execution_count": 13,
   "metadata": {},
   "outputs": [
    {
     "name": "stdout",
     "output_type": "stream",
     "text": [
      "             car  year  condition      km     mark   model\n",
      "0    Lada Granta  2019         75  130000     Lada  Granta\n",
      "1     Lada Vesta  2018        104  210000     Lada   Vesta\n",
      "2        Kia Rio  2010         20   75000      Kia     Rio\n",
      "3  Hyundai Creta  2015         90   94000  Hyundai   Creta\n"
     ]
    }
   ],
   "source": [
    "# 1.3. Ваш код здесь\n",
    "import pandas as pd\n",
    "\n",
    "market = pd.DataFrame({'car':['Lada Granta','Lada Vesta','Kia Rio','Hyundai Creta'], \n",
    "                       'year':[2019,2018,2010,2015], \n",
    "                       'condition':[75,104,20,90], 'km':[130000,210000,75000,94000]})\n",
    "\n",
    "# Разделение столбца 'car' на два столбца 'mark' и 'model'\n",
    "market[['mark', 'model']] = market['car'].str.split(' ', n=1, expand=True)\n",
    "\n",
    "print(market)\n",
    "  \n"
   ]
  },
  {
   "cell_type": "markdown",
   "metadata": {},
   "source": [
    "<p style=\"font-size:125%; color:#119988; background-color:#EEE\">Задание 1.4</p>\n",
    "\n",
    "Имеются исторические данные о цене акции в виде таблицы DataFrame.\n",
    "\n",
    "```\n",
    "history=pd.DataFrame([[150,20,140,140],[140,31,152,150],\n",
    "                     [147,17,180,164],[129,33,150,167]],\n",
    "                     columns=['Open','Low','High','Close'],\n",
    "                     index=['2020-12-07','2020-12-08','2020-12-09','2020-12-10'])\n",
    "```\n",
    "Найдите минимальную и максимальную цены закрытия, стандартное отклонение цены открытия, среднее значение самой низкой (Low) цены и медиану самой высокой (High) цены."
   ]
  },
  {
   "cell_type": "code",
   "execution_count": 7,
   "metadata": {},
   "outputs": [
    {
     "name": "stdout",
     "output_type": "stream",
     "text": [
      "Минимальная цена закрытия: 140\n",
      "Максимальная цена закрытия: 167\n",
      "Стандартное отклонение цены открытия: 9.327379053088816\n",
      "Среднее значение самой низкой цены: 25.25\n",
      "Медиана самой высокой цены: 151.0\n"
     ]
    }
   ],
   "source": [
    "# 1.4. Ваш код здесь\n",
    "import pandas as pd\n",
    "\n",
    "history = pd.DataFrame([[150, 20, 140, 140],\n",
    "                        [140, 31, 152, 150],\n",
    "                        [147, 17, 180, 164],\n",
    "                        [129, 33, 150, 167]],\n",
    "                       columns=['Open', 'Low', 'High', 'Close'],\n",
    "                       index=['2020-12-07', '2020-12-08', '2020-12-09', '2020-12-10'])\n",
    "\n",
    "\n",
    "min_close_price = history['Close'].min()\n",
    "\n",
    "\n",
    "max_close_price = history['Close'].max()\n",
    "\n",
    "\n",
    "std_open_price = history['Open'].std()\n",
    "\n",
    "mean_low_price = history['Low'].mean()\n",
    "\n",
    "\n",
    "median_high_price = history['High'].median()\n",
    "\n",
    "print(\"Минимальная цена закрытия:\", min_close_price)\n",
    "print(\"Максимальная цена закрытия:\", max_close_price)\n",
    "print(\"Стандартное отклонение цены открытия:\", std_open_price)\n",
    "print(\"Среднее значение самой низкой цены:\", mean_low_price)\n",
    "print(\"Медиана самой высокой цены:\", median_high_price)\n"
   ]
  },
  {
   "cell_type": "markdown",
   "metadata": {},
   "source": [
    "# Раздел 2. Извлечение данных по условию\n",
    "\n",
    "### Работа с набором данных *Financial Sample*"
   ]
  },
  {
   "cell_type": "code",
   "execution_count": 2,
   "metadata": {},
   "outputs": [
    {
     "data": {
      "text/html": [
       "<div>\n",
       "<style scoped>\n",
       "    .dataframe tbody tr th:only-of-type {\n",
       "        vertical-align: middle;\n",
       "    }\n",
       "\n",
       "    .dataframe tbody tr th {\n",
       "        vertical-align: top;\n",
       "    }\n",
       "\n",
       "    .dataframe thead th {\n",
       "        text-align: right;\n",
       "    }\n",
       "</style>\n",
       "<table border=\"1\" class=\"dataframe\">\n",
       "  <thead>\n",
       "    <tr style=\"text-align: right;\">\n",
       "      <th></th>\n",
       "      <th>Name</th>\n",
       "      <th>Meaning</th>\n",
       "    </tr>\n",
       "  </thead>\n",
       "  <tbody>\n",
       "    <tr>\n",
       "      <th>0</th>\n",
       "      <td>Segment</td>\n",
       "      <td>Сегмент рынка</td>\n",
       "    </tr>\n",
       "    <tr>\n",
       "      <th>1</th>\n",
       "      <td>Country</td>\n",
       "      <td>Страна</td>\n",
       "    </tr>\n",
       "    <tr>\n",
       "      <th>2</th>\n",
       "      <td>Product</td>\n",
       "      <td>Сделано в</td>\n",
       "    </tr>\n",
       "    <tr>\n",
       "      <th>3</th>\n",
       "      <td>DiscountBand</td>\n",
       "      <td>Группа скидок</td>\n",
       "    </tr>\n",
       "    <tr>\n",
       "      <th>4</th>\n",
       "      <td>UnitsSold</td>\n",
       "      <td>Продано штук</td>\n",
       "    </tr>\n",
       "    <tr>\n",
       "      <th>5</th>\n",
       "      <td>ManufacturingPrice</td>\n",
       "      <td>Цена производства</td>\n",
       "    </tr>\n",
       "    <tr>\n",
       "      <th>6</th>\n",
       "      <td>SalePrice</td>\n",
       "      <td>Цена единицы товара</td>\n",
       "    </tr>\n",
       "    <tr>\n",
       "      <th>7</th>\n",
       "      <td>GrossSales</td>\n",
       "      <td>Валовая продажа</td>\n",
       "    </tr>\n",
       "    <tr>\n",
       "      <th>8</th>\n",
       "      <td>Discounts</td>\n",
       "      <td>Скидка</td>\n",
       "    </tr>\n",
       "    <tr>\n",
       "      <th>9</th>\n",
       "      <td>Sales</td>\n",
       "      <td>Стоимость партии товара</td>\n",
       "    </tr>\n",
       "    <tr>\n",
       "      <th>10</th>\n",
       "      <td>COGS</td>\n",
       "      <td>Себестоимость проданных товаров</td>\n",
       "    </tr>\n",
       "    <tr>\n",
       "      <th>11</th>\n",
       "      <td>Profit</td>\n",
       "      <td>Прибыль</td>\n",
       "    </tr>\n",
       "    <tr>\n",
       "      <th>12</th>\n",
       "      <td>Date</td>\n",
       "      <td>Дата</td>\n",
       "    </tr>\n",
       "    <tr>\n",
       "      <th>13</th>\n",
       "      <td>MonthNumber</td>\n",
       "      <td>Месяц номер</td>\n",
       "    </tr>\n",
       "    <tr>\n",
       "      <th>14</th>\n",
       "      <td>MonthName</td>\n",
       "      <td>Месяц</td>\n",
       "    </tr>\n",
       "    <tr>\n",
       "      <th>15</th>\n",
       "      <td>Year</td>\n",
       "      <td>Год</td>\n",
       "    </tr>\n",
       "  </tbody>\n",
       "</table>\n",
       "</div>"
      ],
      "text/plain": [
       "                  Name                          Meaning\n",
       "0              Segment                    Сегмент рынка\n",
       "1              Country                           Страна\n",
       "2              Product                        Сделано в\n",
       "3         DiscountBand                    Группа скидок\n",
       "4            UnitsSold                     Продано штук\n",
       "5   ManufacturingPrice                Цена производства\n",
       "6            SalePrice              Цена единицы товара\n",
       "7           GrossSales                  Валовая продажа\n",
       "8            Discounts                           Скидка\n",
       "9                Sales          Стоимость партии товара\n",
       "10                COGS  Себестоимость проданных товаров\n",
       "11              Profit                          Прибыль\n",
       "12                Date                             Дата\n",
       "13         MonthNumber                      Месяц номер\n",
       "14           MonthName                            Месяц\n",
       "15                Year                              Год"
      ]
     },
     "execution_count": 2,
     "metadata": {},
     "output_type": "execute_result"
    }
   ],
   "source": [
    "with open('../Data/FinancialSampleFields.csv', encoding='utf-8') as f:\n",
    "  content = f.readlines()\n",
    "  content = [x.replace('\\n','').split(';') for x in content]\n",
    "\n",
    "pd.DataFrame(content[1:],columns = content[0])"
   ]
  },
  {
   "cell_type": "markdown",
   "metadata": {
    "id": "O19QRQijxc8j"
   },
   "source": [
    "### Извлечение данных по условию\n",
    "\n",
    "Использование условий позволяет выбирать только отвечающие условиям данные.\n",
    "\n",
    "Примеры:\n",
    "\n",
    "`fs[fs['SalePrice']>90] # отобрать результаты, для которых цена продажи больше 90`\n",
    "\n",
    "В результате операции сравнения в квадратных скобках создается список из *True* и *False*, который показывает, какие строки *DataFrame* нужно оставить, а какие убрать.\n",
    "\n",
    "`fs[fs['Discounts']>fs['Discounts'].mean()] # результаты, для которых сумма скидок превышает среднюю сумму скидок`\n",
    "\n",
    "Условия можно комбинировать, используя операторы **&** (логическое И) и | (логическое ИЛИ).\n",
    "\n",
    "`fs[(fs['Discounts']>fs['Discounts'].mean()) & (fs['UnitsSold']<fs['UnitsSold'].mean())].sort_values('Country') # сумма скидок выше среднего, продано товара ниже среднего по выборке`\n",
    "\n",
    "`fs[fs['Segment']=='Enterprise']['COGS'].mean() # найти среднюю себестоимость товаров промышленного (Enterprise) сегмента`\n",
    "\n",
    "Проверьте приведенные примеры в своих ноутбуках."
   ]
  },
  {
   "cell_type": "code",
   "execution_count": 22,
   "metadata": {},
   "outputs": [
    {
     "name": "stdout",
     "output_type": "stream",
     "text": [
      "Сумма валовых продаж товаров, произведенных Amarilla для малого бизнеса: 5000\n"
     ]
    }
   ],
   "source": [
    "import pandas as pd\n",
    "\n",
    "\n",
    "data = {\n",
    "    'Product': ['Product A', 'Product B', 'Product C', 'Product D', 'Product E'],\n",
    "    'Segment': ['Small Business', 'Enterprise', 'Government', 'Small Business', 'Government'],\n",
    "    'Manufacturer': ['Amarilla', 'Benitez', 'Carretera', 'Amarilla', 'Paseo'],\n",
    "    'GrossSales': [1000, 2000, 3000, 4000, 5000],\n",
    "    'ManufacturingPrice': [800, 1500, 2000, 1000, 2500],\n",
    "    'SalePrice': [1200, 1800, 2700, 1300, 3500]\n",
    "}\n",
    "\n",
    "df = pd.DataFrame(data)\n",
    "\n",
    "\n",
    "sales_sum = df[(df['Manufacturer'] == 'Amarilla') & (df['Segment'] == 'Small Business')]['GrossSales'].sum()\n",
    "print(\"Сумма валовых продаж товаров, произведенных Amarilla для малого бизнеса:\", sales_sum)\n",
    "\n",
    "\n",
    "mean_manufacturing_price = df[df['Manufacturer'] == 'Mexico']['ManufacturingPrice'].mean()\n",
    "sale_price_threshold = df"
   ]
  },
  {
   "cell_type": "markdown",
   "metadata": {},
   "source": [
    "<p style=\"font-size:125%; color:#119988; background-color:#EEE\">Задание 2.1</p>\n",
    "\n",
    "Загрузите этот набор данных в таблицу *DataFrame*. Какова сумма валовых продаж (GrossSales) товаров, произведеных *Amarilla* для малого бизнеса?"
   ]
  },
  {
   "cell_type": "code",
   "execution_count": 23,
   "metadata": {},
   "outputs": [
    {
     "name": "stdout",
     "output_type": "stream",
     "text": [
      "Сумма валовых продаж товаров, произведенных Amarilla для малого бизнеса: 5000\n"
     ]
    }
   ],
   "source": [
    "# 2.1. Ваш код здесь\n",
    "import pandas as pd\n",
    "df = pd.DataFrame(data)\n",
    "\n",
    "# Задание 2.1\n",
    "sales_sum = df[(df['Manufacturer'] == 'Amarilla') & (df['Segment'] == 'Small Business')]['GrossSales'].sum()\n",
    "print(\"Сумма валовых продаж товаров, произведенных Amarilla для малого бизнеса:\", sales_sum)\n"
   ]
  },
  {
   "cell_type": "markdown",
   "metadata": {},
   "source": [
    "<p style=\"font-size:125%; color:#119988; background-color:#EEE\">Задание 2.2</p>\n",
    "\n",
    "Определите среднюю стоимость производства (ManufacturingPrice) товаров, выпущенных для Мексики стоимостью (SalePrice) выше, чем стоимость 70% товаров."
   ]
  },
  {
   "cell_type": "code",
   "execution_count": 24,
   "metadata": {},
   "outputs": [
    {
     "name": "stdout",
     "output_type": "stream",
     "text": [
      "Средняя стоимость производства товаров, выпущенных для Мексики стоимостью выше 70% товаров: nan\n"
     ]
    }
   ],
   "source": [
    "# 2.2. Ваш код здесь\n",
    "import pandas as pd\n",
    "mean_manufacturing_price = df[df['Manufacturer'] == 'Mexico']['ManufacturingPrice'].mean()\n",
    "sale_price_threshold = df['SalePrice'].quantile(0.7)\n",
    "mean_manufacturing_price_higher = df[(df['Manufacturer'] == 'Mexico') & (df['SalePrice'] > sale_price_threshold)]['ManufacturingPrice'].mean()\n",
    "print(\"Средняя стоимость производства товаров, выпущенных для Мексики стоимостью выше 70% товаров:\", mean_manufacturing_price_higher)\n",
    "\n"
   ]
  },
  {
   "cell_type": "markdown",
   "metadata": {},
   "source": [
    "<p style=\"font-size:125%; color:#119988; background-color:#EEE\">Задание 2.3</p>\n",
    "\n",
    "Найдите минимальную цену производства товара правительственого сегмента, для которого цена продажи ниже цены производства."
   ]
  },
  {
   "cell_type": "code",
   "execution_count": 25,
   "metadata": {},
   "outputs": [
    {
     "name": "stdout",
     "output_type": "stream",
     "text": [
      "Минимальная цена производства товара правительственного сегмента, для которого цена продажи ниже цены производства: nan\n"
     ]
    }
   ],
   "source": [
    "# 2.3. Ваш код здесь\n",
    "import pandas as pd\n",
    "min_production_price = df[(df['Segment'] == 'Government') & (df['SalePrice'] < df['ManufacturingPrice'])]['ManufacturingPrice'].min()\n",
    "print(\"Минимальная цена производства товара правительственного сегмента, для которого цена продажи ниже цены производства:\", min_production_price)\n",
    "\n"
   ]
  },
  {
   "cell_type": "markdown",
   "metadata": {},
   "source": [
    "<p style=\"font-size:125%; color:#119988; background-color:#EEE\">Задание 2.4</p>\n",
    "\n",
    "Какова средняя цена товара, стоимость производства которого ниже средней?"
   ]
  },
  {
   "cell_type": "code",
   "execution_count": 27,
   "metadata": {},
   "outputs": [
    {
     "name": "stdout",
     "output_type": "stream",
     "text": [
      "Средняя цена товара, стоимость производства которого ниже средней: 1433.3333333333333\n"
     ]
    }
   ],
   "source": [
    "# 2.4. Ваш код здесь\n",
    "import pandas as pd\n",
    "mean_sale_price_lower = df[df['ManufacturingPrice'] < df['ManufacturingPrice'].mean()]['SalePrice'].mean()\n",
    "print(\"Средняя цена товара, стоимость производства которого ниже средней:\", mean_sale_price_lower)\n"
   ]
  },
  {
   "cell_type": "markdown",
   "metadata": {},
   "source": [
    "<p style=\"font-size:125%; color:#119988; background-color:#EEE\">Задание 2.5</p>\n",
    "\n",
    "Во сколько раз средняя себестоимость (COGS) товаров промышленного сегмента (Enterprize) отличается от средней себестоимости товаров малого бизнеса?"
   ]
  },
  {
   "cell_type": "code",
   "execution_count": 26,
   "metadata": {},
   "outputs": [
    {
     "name": "stdout",
     "output_type": "stream",
     "text": [
      "Средняя себестоимость товаров промышленного сегмента отличается от средней себестоимости товаров малого бизнеса в 1.6666666666666667 раз\n"
     ]
    }
   ],
   "source": [
    "# 2.5. Ваш код здесь\n",
    "import pandas as pd\n",
    "mean_cogs_enterprise = df[df['Segment'] == 'Enterprise']['ManufacturingPrice'].mean()\n",
    "mean_cogs_small_business = df[df['Segment'] == 'Small Business']['ManufacturingPrice'].mean()\n",
    "cost_difference_ratio = mean_cogs_enterprise / mean_cogs_small_business\n",
    "print(\"Средняя себестоимость товаров промышленного сегмента отличается от средней себестоимости товаров малого бизнеса в\", cost_difference_ratio, \"раз\")\n"
   ]
  },
  {
   "cell_type": "markdown",
   "metadata": {},
   "source": [
    "<p style=\"font-size:125%; color:#119988; background-color:#EEE\">Задание 2.6</p>\n",
    "\n",
    "Какова суммарная прибыль всех сделок в правительственном сегменте, заключенных компаниями Carretera и Paseo?"
   ]
  },
  {
   "cell_type": "code",
   "execution_count": 28,
   "metadata": {},
   "outputs": [
    {
     "name": "stdout",
     "output_type": "stream",
     "text": [
      "Суммарная прибыль всех сделок в правительственном сегменте, заключенных компаниями Carretera и Paseo: 3500\n"
     ]
    }
   ],
   "source": [
    "# 2.6. Ваш код здесь\n",
    "import pandas as pd\n",
    "government_deals_profit = df[(df['Segment'] == 'Government') & (df['Manufacturer'].isin(['Carretera', 'Paseo']))]['GrossSales'].sum() - df[(df['Segment'] == 'Government') & (df['Manufacturer'].isin(['Carretera', 'Paseo']))]['ManufacturingPrice'].sum()\n",
    "print(\"Суммарная прибыль всех сделок в правительственном сегменте, заключенных компаниями Carretera и Paseo:\", government_deals_profit)\n",
    "\n"
   ]
  },
  {
   "cell_type": "markdown",
   "metadata": {
    "id": "mLSdzFG55hyA"
   },
   "source": [
    "## Раздел 3. Группировка данных\n",
    "\n"
   ]
  },
  {
   "cell_type": "code",
   "execution_count": 4,
   "metadata": {},
   "outputs": [],
   "source": [
    "data = {\n",
    "    'DiscountSystem': ['System A', 'System B', 'System C', 'System A', 'System B'],\n",
    "    'Country': ['USA', 'Canada', 'Germany', 'Canada', 'USA'],\n",
    "    'COGS': [100, 200, 300, 150, 250]\n",
    "}\n",
    "\n",
    "df = pd.DataFrame(data)"
   ]
  },
  {
   "cell_type": "markdown",
   "metadata": {},
   "source": [
    "<p style=\"font-size:125%; color:#119988; background-color:#EEE\">Задание 3.1</p>\n",
    "\n",
    "Сколько разных систем скидок представлено в таблице?"
   ]
  },
  {
   "cell_type": "code",
   "execution_count": 5,
   "metadata": {},
   "outputs": [
    {
     "name": "stdout",
     "output_type": "stream",
     "text": [
      "Количество разных систем скидок в таблице: 3\n"
     ]
    }
   ],
   "source": [
    "# 3.1. Ваш код здесь\n",
    "import pandas as pd\n",
    "import numpy as np\n",
    "num_discount_systems = df['DiscountSystem'].nunique()\n",
    "print(\"Количество разных систем скидок в таблице:\", num_discount_systems)\n",
    "\n",
    "\n"
   ]
  },
  {
   "cell_type": "markdown",
   "metadata": {},
   "source": [
    "<p style=\"font-size:125%; color:#119988; background-color:#EEE\">Задание 3.2</p>\n",
    "\n",
    "Какая из систем скидок применяется реже всего?"
   ]
  },
  {
   "cell_type": "code",
   "execution_count": 6,
   "metadata": {},
   "outputs": [
    {
     "name": "stdout",
     "output_type": "stream",
     "text": [
      "Самая редкая система скидок: System C\n"
     ]
    }
   ],
   "source": [
    "# 3.2. Ваш код здесь\n",
    "rarest_discount_system = df['DiscountSystem'].value_counts().idxmin()\n",
    "print(\"Самая редкая система скидок:\", rarest_discount_system)\n",
    "\n"
   ]
  },
  {
   "cell_type": "markdown",
   "metadata": {},
   "source": [
    "<p style=\"font-size:125%; color:#119988; background-color:#EEE\">Задание 3.3</p>\n",
    "\n",
    "Сколько раз представлены в выборке разные страны?"
   ]
  },
  {
   "cell_type": "code",
   "execution_count": 7,
   "metadata": {},
   "outputs": [
    {
     "name": "stdout",
     "output_type": "stream",
     "text": [
      "Количество разных стран в выборке: 3\n"
     ]
    }
   ],
   "source": [
    "# 3.3. Ваш код здесь\n",
    "num_countries = df['Country'].nunique()\n",
    "print(\"Количество разных стран в выборке:\", num_countries)\n"
   ]
  },
  {
   "cell_type": "markdown",
   "metadata": {},
   "source": [
    "<p style=\"font-size:125%; color:#119988; background-color:#EEE\">Задание 3.4</p>\n",
    "\n",
    "Разбейте значения столбца себестоимости (COGS) для Канады на шесть интервалов."
   ]
  },
  {
   "cell_type": "code",
   "execution_count": 8,
   "metadata": {},
   "outputs": [
    {
     "name": "stdout",
     "output_type": "stream",
     "text": [
      "Интервалы для столбца себестоимости (COGS) для Канады:\n",
      "1     (191.667, 200.0]\n",
      "3    (149.95, 158.333]\n",
      "Name: COGS, dtype: category\n",
      "Categories (6, interval[float64, right]): [(149.95, 158.333] < (158.333, 166.667] < (166.667, 175.0] < (175.0, 183.333] < (183.333, 191.667] < (191.667, 200.0]]\n"
     ]
    }
   ],
   "source": [
    "# 3.4. Ваш код здесь\n",
    "cogs_intervals = pd.cut(df[df['Country'] == 'Canada']['COGS'], bins=6)\n",
    "print(\"Интервалы для столбца себестоимости (COGS) для Канады:\")\n",
    "print(cogs_intervals)\n",
    "\n"
   ]
  },
  {
   "cell_type": "markdown",
   "metadata": {},
   "source": [
    "<p style=\"font-size:125%; color:#119988; background-color:#EEE\">Задание 3.5</p>\n",
    "\n",
    "Разбейте значения столбца себестоимости (COGS) для Канады на шесть интервалов."
   ]
  },
  {
   "cell_type": "code",
   "execution_count": 37,
   "metadata": {},
   "outputs": [
    {
     "name": "stdout",
     "output_type": "stream",
     "text": [
      "Интервалы с метками для столбца себестоимости (COGS) для Канады:\n",
      "1    Highest\n",
      "3     Lowest\n",
      "Name: COGS, dtype: category\n",
      "Categories (6, object): ['Lowest' < 'Low' < 'Medium' < 'High' < 'Higher' < 'Highest']\n"
     ]
    }
   ],
   "source": [
    "# 3.5. Ваш код здесь\n",
    "cogs_intervals = pd.cut(df[df['Country'] == 'Canada']['COGS'], bins=6)\n",
    "print(\"Интервалы для столбца себестоимости (COGS) для Канады:\")\n",
    "print(cogs_intervals)\n",
    "\n"
   ]
  }
 ],
 "metadata": {
  "colab": {
   "collapsed_sections": [],
   "name": "Тема 8 ГК (запросы) Лекция",
   "provenance": []
  },
  "kernelspec": {
   "display_name": "Python 3 (ipykernel)",
   "language": "python",
   "name": "python3"
  },
  "language_info": {
   "codemirror_mode": {
    "name": "ipython",
    "version": 3
   },
   "file_extension": ".py",
   "mimetype": "text/x-python",
   "name": "python",
   "nbconvert_exporter": "python",
   "pygments_lexer": "ipython3",
   "version": "3.12.0"
  },
  "toc": {
   "base_numbering": 1,
   "nav_menu": {},
   "number_sections": true,
   "sideBar": true,
   "skip_h1_title": false,
   "title_cell": "Table of Contents",
   "title_sidebar": "Contents",
   "toc_cell": true,
   "toc_position": {},
   "toc_section_display": true,
   "toc_window_display": false
  },
  "varInspector": {
   "cols": {
    "lenName": 16,
    "lenType": 16,
    "lenVar": 40
   },
   "kernels_config": {
    "python": {
     "delete_cmd_postfix": "",
     "delete_cmd_prefix": "del ",
     "library": "var_list.py",
     "varRefreshCmd": "print(var_dic_list())"
    },
    "r": {
     "delete_cmd_postfix": ") ",
     "delete_cmd_prefix": "rm(",
     "library": "var_list.r",
     "varRefreshCmd": "cat(var_dic_list()) "
    }
   },
   "types_to_exclude": [
    "module",
    "function",
    "builtin_function_or_method",
    "instance",
    "_Feature"
   ],
   "window_display": false
  }
 },
 "nbformat": 4,
 "nbformat_minor": 4
}
