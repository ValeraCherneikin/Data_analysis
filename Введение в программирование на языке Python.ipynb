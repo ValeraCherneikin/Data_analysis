{
 "cells": [
  {
   "cell_type": "markdown",
   "metadata": {
    "toc": true
   },
   "source": [
    "<h1>Table of Contents<span class=\"tocSkip\"></span></h1>\n",
    "<div class=\"toc\"><ul class=\"toc-item\"><li><span><a href=\"#Тема-1.-Введение-в-программирование-на-языке-Python\" data-toc-modified-id=\"Тема-1.-Введение-в-программирование-на-языке-Python-1\"><span class=\"toc-item-num\">1&nbsp;&nbsp;</span>Тема 1. Введение в программирование на языке Python</a></span></li><li><span><a href=\"#Задания\" data-toc-modified-id=\"Задания-2\"><span class=\"toc-item-num\">2&nbsp;&nbsp;</span>Задания</a></span></li><li><span><a href=\"#1.-Числовые-и-строковые-типы-данных-языка-Python.-Управляющие-конструкции.\" data-toc-modified-id=\"1.-Числовые-и-строковые-типы-данных-языка-Python.-Управляющие-конструкции.-3\"><span class=\"toc-item-num\">3&nbsp;&nbsp;</span>1. Числовые и строковые типы данных языка Python. Управляющие конструкции.</a></span><ul class=\"toc-item\"><li><span><a href=\"#1.1.-Работа-с-числами.-Базовые-числовые-типы-int-и-float\" data-toc-modified-id=\"1.1.-Работа-с-числами.-Базовые-числовые-типы-int-и-float-3.1\"><span class=\"toc-item-num\">3.1&nbsp;&nbsp;</span>1.1. Работа с числами. Базовые числовые типы int и float</a></span></li><li><span><a href=\"#1.2.-Строки,-функции-и-методы-работы-со-строками\" data-toc-modified-id=\"1.2.-Строки,-функции-и-методы-работы-со-строками-3.2\"><span class=\"toc-item-num\">3.2&nbsp;&nbsp;</span>1.2. Строки, функции и методы работы со строками</a></span></li></ul></li></ul></div>"
   ]
  },
  {
   "cell_type": "markdown",
   "metadata": {},
   "source": []
  },
  {
   "cell_type": "markdown",
   "metadata": {},
   "source": [
    "\n",
    "# Тема 1. Введение в программирование на языке Python"
   ]
  },
  {
   "cell_type": "markdown",
   "metadata": {},
   "source": [
    "# Задания\n",
    "\n",
    "Выполните задания\n",
    "\n",
    "# 1. Числовые и строковые типы данных языка Python. Управляющие конструкции.\n",
    "\n",
    "## 1.1. Работа с числами. Базовые числовые типы int и float\n",
    "\n",
    "1. Значения переменных А и В ввести с клавиатуры и вывести на экран. После этого значения меняются местами, т.е. A нужно присвоить значение B, а B – значение A, и вновь значения переменных вывести на экран.\n",
    "\n",
    "2. Значение x вводится с клавиатуры. Вычислите $y=(x+1)^2\\cdot \\sqrt{x^3+1}$ Выведите на экран значения $x$ и $y$ с тремя знаками после запятой.\n",
    "\n",
    "3. Вычислите сумму цифр пятизначного числа.\n",
    "\n",
    "4. Для заданного трехзначного числа выведите число, у которого цифры идут в обратном порядке, например, для числа 123 ответ 321.\n",
    "\n",
    "5. Ввести координаты 2 точек: $(x_1,y_1)$ и $(x_2,y_2)$. Вычислите расстояние между этими точками.  Результат выведите с 5 знаками после запятой.\n",
    "\n",
    "6. Разработать программу вычисления по известному радиусу площади круга и длины окружности.\n",
    "\n",
    "7. Разработать программу по вычислению площади кольца по известным значениям его внешнего и внутреннего радиусов.\n",
    "\n",
    "8. Разработать программу вычисления радиуса круга и его площади по известной длине окружности.\n",
    "\n",
    "9. Разработать программу вычисления объема шара: а) по радиусу; б) по длине его экваториальной параллели. Объём шара рассчитывается по формуле $V=\\frac{4}{3}\\pi{r^3}$, где $r$ - радиус.\n",
    "\n",
    "10. Имеются два $n$–мерных вектора $x$ и $y$, которые задают координаты $n$ точек на плоскости (случайные целые числа). Найти наиболее близкие друг другу точки.\n",
    "\n",
    "11. Треугольник задан координатами своих вершин: $(x_1,y_1),(x_2,y_2),(x_3,y_3)$. Значения координат определите с помощью присваивания. Они могут быть нецелыми. Найти периметр и площадь треугольника.\n",
    "\n",
    "12. Пусть пользователь вводит 5 чисел: а, b, c, d, e. Реализуйте программу расчета выражения вида $res=\\frac{a+bc}{2d-e}+Ost[b^e/c]$, где $Ost$ - остаток от деления. Учесть невозможность деления на 0.\n",
    "\n",
    "\n",
    "## 1.2. Строки, функции и методы работы со строками\n",
    "\n",
    "1. Введите строку, состоящую из двух цифр. Преобразуйте ее в целое и вещественное число. Выведите полученные три значения (строку, целое число, вещественное число) на экран в одной строке через запятую, затем пропустите строку и вновь выведите значения по одному на строке. Перед каждым значением выведите его тип.\n",
    "\n",
    "2. Для строки 'Финансовый университет' двумя способами получить подстроку с 1-го по 4-й символы включительно.\n",
    "\n",
    "3. Составить строку из всех четных символов строки 'Финансовый университет'.\n",
    "\n",
    "4. Получить подстроку неизвестной заранее строки, содержащую половину символов строки и расположенную посередине строки.\n",
    "\n",
    "5. Коротко записать создание строки 'oneoneoneoneoneonetwotwotwo'\n",
    "\n",
    "6. Для введенной строки выведите (на отдельной строке):\n",
    "- второй символ этой строки;\n",
    "- предпоследний символ этой строки;\n",
    "- всю строку, кроме последних двух символов;\n",
    "- все символы с четными индексами (считая, что индексация начинается с 0, поэтому символы выводятся, начиная с первого);\n",
    "- все символы с нечетными индексами, то есть начиная со второго символа строки;\n",
    "- все символы в обратном порядке;\n",
    "- все символы строки через один в обратном порядке, начиная с последнего;\n",
    "- длину данной строки.\n",
    "\n",
    "7. Не используя метод count, для заданной строки выполните:\n",
    "- если символ * в данной строке отсутствует, выведите текст «нет символа»;\n",
    "- если символ * встречается в строке только один раз, выведите его индекс;\n",
    "- если символ * встречается два и более раз, выведите индекс его первого, второго и последнего вхождения, удалите первый и последний символ * из строки.\n",
    "\n",
    "8. Дана строка, состоящая из слов, разделенных пробелами. В этой строке:\n",
    "- удалите все лишние пробелы (в начале, в конце, между словами оставить ровно один пробел);\n",
    "- поменяйте регистр символов (строчные сделать прописными, прописные – строчными);\n",
    "- определите, сколько в ней слов.\n",
    "\n",
    "9. Строка содержит фамилию, имя и отчество, записанные через пробелы. Например «Иванов Иван Иванович». Для этой строки:\n",
    "- выведите информацию в виде:\n",
    "```\n",
    "Фамилия       Иванов\n",
    "Имя           Иван\n",
    "Отчество      Иванович\n",
    "```\n",
    "- получите строки вида «Иванов И.И.» и «И.И. Иванов».\n",
    "\n",
    "10. Напишите программу, которая осуществляет вывод кошки на экран. Примечание: кошка выглядят примерно так:\n",
    "```\n",
    "         /\\_/\\ \n",
    "         /@ @\\ \n",
    "        (~~0~~)\n",
    "\n",
    " ```\n",
    "\n",
    "11. Для двух произвольных строк провести сравнение на совпадение содержимого без учета регистра букв и начальных и конечных пробельных символов. Например, для двух строк ' HeLLO WOrlD' и 'hello WORLD ' такое сравнение должно возвращать True (содержание строк совпадает).\n",
    "\n",
    "12. По номеру года определите, является ли данный год високосным. (год является високосным, если его номер кратен 4, но не кратен 100, а также если он кратен 400).\n",
    "\n",
    "18. Даны точки $A=(1,1),B=(5,5),C=(1,4),D=(7,2)$. Найти точку пересечения отрезков $AB$ и $CD$."
   ]
  },
  {
   "cell_type": "code",
   "execution_count": 1,
   "metadata": {},
   "outputs": [],
   "source": [
    "A = int(input(\"Введите значение переменной A: \"))\n",
    "B = int(input(\"Введите значение переменной B: \"))\n",
    "\n",
    "print(\"Значение переменных A и B до смены местами:\")\n",
    "print(\"A =\", A)\n",
    "print(\"B =\", B)\n",
    "\n",
    "A, B = B, A\n",
    "\n",
    "print(\"Значение переменных A и B после смены местами:\")\n",
    "print(\"A =\", A)\n",
    "print(\"B =\", B)"
   ]
  },
  {
   "cell_type": "code",
   "execution_count": null,
   "metadata": {},
   "outputs": [],
   "source": [
    "import math\n",
    "\n",
    "x = float(input(\"Введите значение x: \"))\n",
    "\n",
    "y = (x + 1) ** 2 * math.sqrt(x ** 3 + 1)\n",
    "\n",
    "print(\"x =\", round(x, 3))\n",
    "print(\"y =\", round(y, 3))"
   ]
  },
  {
   "cell_type": "code",
   "execution_count": null,
   "metadata": {},
   "outputs": [],
   "source": [
    "number = int(input(\"Введите пятизначное число: \"))\n",
    "\n",
    "sum_of_digits = 0\n",
    "temp_number = number\n",
    "\n",
    "while temp_number > 0:\n",
    "    digit = temp_number % 10\n",
    "    sum_of_digits += digit\n",
    "    temp_number //= 10\n",
    "\n",
    "print(\"Сумма цифр пятизначного числа\", number, \":\", sum_of_digits)"
   ]
  },
  {
   "cell_type": "code",
   "execution_count": null,
   "metadata": {},
   "outputs": [],
   "source": [
    "number = int(input(\"Введите трехзначное число: \"))\n",
    "\n",
    "reversed_number = int(str(number)[::-1])\n",
    "\n",
    "print(\"Число с обратным порядком цифр:\", reversed_number)"
   ]
  },
  {
   "cell_type": "code",
   "execution_count": null,
   "metadata": {},
   "outputs": [],
   "source": [
    "import math\n",
    "\n",
    "x1 = float(input(\"Введите координату x1 первой точки: \"))\n",
    "y1 = float(input(\"Введите координату y1 первой точки: \"))\n",
    "x2 = float(input(\"Введите координату x2 второй точки: \"))\n",
    "y2 = float(input(\"Введите координату y2 второй точки: \"))\n",
    "\n",
    "distance = math.sqrt((x2-x1)**2 + (y2-y1)**2)\n",
    "\n",
    "print(\"Расстояние между точками:\", round(distance, 5))"
   ]
  },
  {
   "cell_type": "code",
   "execution_count": null,
   "metadata": {},
   "outputs": [],
   "source": [
    "import math\n",
    "\n",
    "radius = float(input(\"Введите радиус круга: \"))\n",
    "\n",
    "area = math.pi * radius**2\n",
    "circumference = 2 * math.pi * radius\n",
    "\n",
    "print(\"Площадь круга:\", area)\n",
    "print(\"Длина окружности:\", circumference)"
   ]
  },
  {
   "cell_type": "code",
   "execution_count": null,
   "metadata": {},
   "outputs": [],
   "source": [
    "import math\n",
    "\n",
    "outer_radius = float(input(\"Введите внешний радиус кольца: \"))\n",
    "inner_radius = float(input(\"Введите внутренний радиус кольца: \"))\n",
    "\n",
    "area = math.pi * (outer_radius ** 2 - inner_radius ** 2)\n",
    "\n",
    "print(\"Площадь кольца:\", area)"
   ]
  },
  {
   "cell_type": "code",
   "execution_count": null,
   "metadata": {},
   "outputs": [],
   "source": [
    "import math\n",
    "\n",
    "circumference = float(input(\"Введите длину окружности: \"))\n",
    "\n",
    "radius = circumference / (2 * math.pi)\n",
    "area = math.pi * radius**2\n",
    "\n",
    "print(\"Радиус круга:\", radius)\n",
    "print(\"Площадь круга:\", area)"
   ]
  },
  {
   "cell_type": "code",
   "execution_count": null,
   "metadata": {},
   "outputs": [],
   "source": [
    "import math\n",
    "\n",
    "radius = float(input(\"Введите радиус шара: \"))\n",
    "\n",
    "volume = (4 / 3) * math.pi * radius**3\n",
    "\n",
    "print(\"Объем шара по радиусу:\", volume)\n",
    "\n",
    "equatorial_circumference = float(input(\"Введите длину экваториальной параллели шара: \"))\n",
    "\n",
    "volume = (equatorial_circumference**2 * math.pi**2) / (6 * math.pi)\n",
    "\n",
    "print(\"Объем шара по длине экваториальной параллели:\", volume)"
   ]
  },
  {
   "cell_type": "code",
   "execution_count": null,
   "metadata": {},
   "outputs": [],
   "source": [
    "import math\n",
    "\n",
    "n = int(input(\"Введите размерность векторов: \"))\n",
    "\n",
    "vector_x = []\n",
    "vector_y = []\n",
    "\n",
    "for i in range(n):\n",
    "    x = int(input(\"Введите координату x{}: \".format(i + 1)))\n",
    "    y = int(input(\"Введите координату y{}: \".format(i + 1)))\n",
    "    vector_x.append(x)\n",
    "    vector_y.append(y)\n",
    "\n",
    "closest_points = []\n",
    "min_distance = math.inf\n",
    "\n",
    "for i in range(n):\n",
    "    for j in range(i + 1, n):\n",
    "        distance = math.sqrt((vector_x[j] - vector_x[i])**2 + (vector_y[j] - vector_y[i])**2)\n",
    "        \n",
    "        if distance < min_distance:\n",
    "            closest_points = [(vector_x[i], vector_y[i]), (vector_x[j], vector_y[j])]\n",
    "            min_distance = distance\n",
    "\n",
    "print(\"Наиболее близкие точки:\", closest_points)"
   ]
  },
  {
   "cell_type": "code",
   "execution_count": null,
   "metadata": {},
   "outputs": [],
   "source": [
    "import math\n",
    "\n",
    "x1 = float(input(\"Введите координату x первой вершины треугольника: \"))\n",
    "y1 = float(input(\"Введите координату y первой вершины треугольника: \"))\n",
    "x2 = float(input(\"Введите координату x второй вершины треугольника: \"))\n",
    "y2 = float(input(\"Введите координату y второй вершины треугольника: \"))\n",
    "x3 = float(input(\"Введите координату x третьей вершины треугольника: \"))\n",
    "y3 = float(input(\"Введите координату y третьей вершины треугольника: \"))\n",
    "\n",
    "side1 = math.sqrt((x2 - x1)**2 + (y2 - y1)**2)\n",
    "side2 = math.sqrt((x3 - x2)**2 + (y3 - y2)**2)\n",
    "side3 = math.sqrt((x1 - x3)**2 + (y1 - y3)**2)\n",
    "\n",
    "perimeter = side1 + side2 + side3\n",
    "\n",
    "semi_perimeter = perimeter / 2\n",
    "\n",
    "area = math.sqrt(semi_perimeter \n",
    "                 * (semi_perimeter - side1) \n",
    "                 * (semi_perimeter - side2) \n",
    "                 * (semi_perimeter - side3))\n",
    "\n",
    "print(\"Периметр треугольника:\", perimeter)\n",
    "print(\"Площадь треугольника:\", area)"
   ]
  },
  {
   "cell_type": "code",
   "execution_count": null,
   "metadata": {},
   "outputs": [],
   "source": [
    "a = float(input(\"Введите число a: \"))\n",
    "b = float(input(\"Введите число b: \"))\n",
    "c = float(input(\"Введите число c: \"))\n",
    "d = float(input(\"Введите число d: \"))\n",
    "e = float(input(\"Введите число e: \"))\n",
    "\n",
    "try:\n",
    "    res = (a + b * c) / (2 * d - e)\n",
    "    ost = b**e % c\n",
    "    result = res + ost\n",
    "    print(\"Результат:\", result)\n",
    "except ZeroDivisionError:\n",
    "    print(\"Ошибка: Деление на ноль невозможно.\")"
   ]
  },
  {
   "cell_type": "code",
   "execution_count": null,
   "metadata": {},
   "outputs": [],
   "source": [
    "string = input(\"Введите строку, состоящую из двух цифр: \")\n",
    "\n",
    "integer = int(string)\n",
    "float_number = float(string)\n",
    "\n",
    "print(string, integer, float_number)\n",
    "print()\n",
    "print(type(string), type(integer), type(float_number))"
   ]
  },
  {
   "cell_type": "code",
   "execution_count": null,
   "metadata": {},
   "outputs": [],
   "source": [
    "string = 'Финансовый университет'\n",
    "\n",
    "substring1 = string[0:4]\n",
    "substring2 = string[:4]\n",
    "\n",
    "print(substring1)\n",
    "print(substring2)"
   ]
  },
  {
   "cell_type": "code",
   "execution_count": null,
   "metadata": {},
   "outputs": [],
   "source": [
    "string = 'Финансовый университет'\n",
    "\n",
    "even_chars = string[1::2]\n",
    "\n",
    "print(even_chars)"
   ]
  },
  {
   "cell_type": "code",
   "execution_count": null,
   "metadata": {},
   "outputs": [],
   "source": [
    "string = 'Финансовый университет'\n",
    "\n",
    "middle = len(string) // 2\n",
    "substring = string[middle - 1:middle + 1]\n",
    "\n",
    "print(substring)"
   ]
  },
  {
   "cell_type": "code",
   "execution_count": null,
   "metadata": {},
   "outputs": [],
   "source": [
    "string = 'one' * 5 + 'two' * 3\n",
    "\n",
    "print(string)"
   ]
  },
  {
   "cell_type": "code",
   "execution_count": null,
   "metadata": {},
   "outputs": [],
   "source": [
    "string = input(\"Введите строку: \")\n",
    "\n",
    "second_character = string[1]\n",
    "penultimate_character = string[-2]\n",
    "all_except_last_two = string[:-2]\n",
    "even_indices = string[::2]\n",
    "odd_indices = string[1::2]\n",
    "reversed_string = string[::-1]\n",
    "reversed_every_other = string[-1::-2]\n",
    "length = len(string)\n",
    "\n",
    "print(second_character)\n",
    "print(penultimate_character)\n",
    "print(all_except_last_two)\n",
    "print(even_indices)\n",
    "print(odd_indices)\n",
    "print(reversed_string)\n",
    "print(reversed_every_other)\n",
    "print(length)"
   ]
  },
  {
   "cell_type": "code",
   "execution_count": null,
   "metadata": {},
   "outputs": [],
   "source": [
    "string = input(\"Введите строку: \")\n",
    "\n",
    "if \"*\" not in string:\n",
    "        print(\"В строке отсутствует символ '*'\")\n",
    "else:\n",
    "    split_list = string.split(\"*\")\n",
    "    count = len(split_list)\n",
    "    all_uppercase = string.upper()\n",
    "    all_lowercase = string.lower()\n",
    "    first_word_length = len(split_list[0])\n",
    "\n",
    "    print(\"Количество секций в строке:\", count)\n",
    "    print(\"Строка в верхнем регистре:\", all_uppercase)\n",
    "    print(\"Строка в нижнем регистре:\", all_lowercase)\n",
    "    print(\"Длина первого слова:\", first_word_length)"
   ]
  },
  {
   "cell_type": "code",
   "execution_count": null,
   "metadata": {},
   "outputs": [],
   "source": [
    "string = input(\"Введите строку: \")\n",
    "\n",
    "if len(string) < 10:\n",
    "    print(\"Строка:\", string)\n",
    "else:\n",
    "    substring = string[:7] + \"...\"\n",
    "    print(\"Строка:\", substring)"
   ]
  },
  {
   "cell_type": "code",
   "execution_count": null,
   "metadata": {},
   "outputs": [],
   "source": [
    "string = input(\"Введите строку: \")\n",
    "\n",
    "if string.isalpha():\n",
    "    print(\"Строка состоит только из букв\")\n",
    "elif string.isdigit():\n",
    "    print(\"Строка состоит только из цифр\")\n",
    "elif string.isalnum():\n",
    "    print(\"Строка состоит из букв и цифр\")\n",
    "else:\n",
    "    print(\"Строка содержит специальные символы\")"
   ]
  },
  {
   "cell_type": "code",
   "execution_count": null,
   "metadata": {},
   "outputs": [],
   "source": [
    "string = input(\"Введите строку: \")\n",
    "\n",
    "if string.startswith(\"https://\") and string.endswith(\".com\"):\n",
    "    print(\"Строка является валидным URL-адресом\")\n",
    "else:\n",
    "    print(\"Строка не является валидным URL-адресом\")"
   ]
  },
  {
   "cell_type": "code",
   "execution_count": null,
   "metadata": {},
   "outputs": [],
   "source": [
    "string = input(\"Введите строку: \")\n",
    "\n",
    "vowels = \"aeiou\"\n",
    "\n",
    "vowel_count = sum([1 for char in string if char.lower() in vowels])\n",
    "consonant_count = sum([1 for char in string if char.isalpha() and char.lower() not in vowels])\n",
    "\n",
    "print(\"Количество гласных букв:\", vowel_count)\n",
    "print(\"Количество согласных букв:\", consonant_count)"
   ]
  },
  {
   "cell_type": "code",
   "execution_count": null,
   "metadata": {},
   "outputs": [],
   "source": [
    "string = input(\"Введите строку: \")\n",
    "\n",
    "if string.isupper():\n",
    "    print(\"Все символы в верхнем регистре\")\n",
    "elif string.islower():\n",
    "    print(\"Все символы в нижнем регистре\")\n",
    "else:\n",
    "    print(\"Строка содержит символы в разных регистрах\")"
   ]
  }
 ],
 "metadata": {
  "kernelspec": {
   "display_name": "Python 3 (ipykernel)",
   "language": "python",
   "name": "python3"
  },
  "language_info": {
   "codemirror_mode": {
    "name": "ipython",
    "version": 3
   },
   "file_extension": ".py",
   "mimetype": "text/x-python",
   "name": "python",
   "nbconvert_exporter": "python",
   "pygments_lexer": "ipython3",
   "version": "3.12.0"
  },
  "toc": {
   "base_numbering": 1,
   "nav_menu": {},
   "number_sections": true,
   "sideBar": true,
   "skip_h1_title": false,
   "title_cell": "Table of Contents",
   "title_sidebar": "Contents",
   "toc_cell": true,
   "toc_position": {},
   "toc_section_display": true,
   "toc_window_display": false
  },
  "varInspector": {
   "cols": {
    "lenName": 16,
    "lenType": 16,
    "lenVar": 40
   },
   "kernels_config": {
    "python": {
     "delete_cmd_postfix": "",
     "delete_cmd_prefix": "del ",
     "library": "var_list.py",
     "varRefreshCmd": "print(var_dic_list())"
    },
    "r": {
     "delete_cmd_postfix": ") ",
     "delete_cmd_prefix": "rm(",
     "library": "var_list.r",
     "varRefreshCmd": "cat(var_dic_list()) "
    }
   },
   "types_to_exclude": [
    "module",
    "function",
    "builtin_function_or_method",
    "instance",
    "_Feature"
   ],
   "window_display": false
  }
 },
 "nbformat": 4,
 "nbformat_minor": 4
}
