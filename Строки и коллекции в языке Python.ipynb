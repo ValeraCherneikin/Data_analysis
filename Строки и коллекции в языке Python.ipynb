{
 "cells": [
  {
   "cell_type": "markdown",
   "metadata": {
    "toc": true
   },
   "source": [
    "<h1>Table of Contents<span class=\"tocSkip\"></span></h1>\n",
    "<div class=\"toc\"><ul class=\"toc-item\"><li><span><a href=\"#Тема-2.-Строки-и-коллекции-в-языке-Python\" data-toc-modified-id=\"Тема-2.-Строки-и-коллекции-в-языке-Python-1\"><span class=\"toc-item-num\">1&nbsp;&nbsp;</span>Тема 2. Строки и коллекции в языке Python</a></span></li><li><span><a href=\"#Задания\" data-toc-modified-id=\"Задания-2\"><span class=\"toc-item-num\">2&nbsp;&nbsp;</span>Задания</a></span><ul class=\"toc-item\"><li><span><a href=\"#1.3.-Операторы-сравнения.-Логические-операторы.-Инструкция-ветвления-if...else\" data-toc-modified-id=\"1.3.-Операторы-сравнения.-Логические-операторы.-Инструкция-ветвления-if...else-2.1\"><span class=\"toc-item-num\">2.1&nbsp;&nbsp;</span>1.3. Операторы сравнения. Логические операторы. Инструкция ветвления if...else</a></span></li></ul></li></ul></div>"
   ]
  },
  {
   "cell_type": "markdown",
   "metadata": {},
   "source": []
  },
  {
   "cell_type": "markdown",
   "metadata": {},
   "source": [
    "\n",
    "# Тема 2. Строки и коллекции в языке Python"
   ]
  },
  {
   "cell_type": "markdown",
   "metadata": {},
   "source": [
    "# Задания\n",
    "\n",
    "Выполните задания\n",
    "\n"
   ]
  },
  {
   "cell_type": "markdown",
   "metadata": {},
   "source": [
    "## 1.3. Операторы сравнения. Логические операторы. Инструкция ветвления if...else\n",
    "\n",
    "1. Определить время года по номеру месяца.\n",
    "2. Определить минимальное значение среди чисел $a, b, c, d$ (не использовать стандартные функции max и min).\n",
    "3. Напишите программу, которая переводит оценку из 100-балльной системы в пятибалльную по правилам, принятым в университете.\n",
    "4. Вычислить значение $F: F=1$, если цифра $7$ входит в запись заданного трехзначного числа, и $0$ – в противном случае.\n",
    "5. Даны два отрезка $[a;b]$ и $[c;d]$. Найдите их пересечение. Если отрезки не пересекаются, то выдайте сообщение.\n",
    "6. По номеру года определите, является ли данный год високосным. (год является високосным, если его номер кратен 4, но не кратен 100, а также если он кратен 400).\n",
    "7. Для отрезков длины a, b, c определить, можно ли из них составить треугольник и является ли этот треугольник прямоугольным.\n",
    "8. Напишите программу для решения уравнения\n",
    "$$ ax^2+bx+c=0 $$\n",
    "Коэффициенты $a, b, c$ могут быть любыми числами. \n",
    "9. Вводится целое число. Выведите его на экран и допишите к нему слова «рубль», «рубля» или «рублей» в зависимости от значения. Алгоритм: \n",
    "- исключение: если число оканчивается на 11, 12, 13 или 14, добавляем слово «рублей»; \n",
    "- если число оканчивается на 1, добавляем слово «рубль»; \n",
    "- если число оканчивается на 2, 3 или 4, добавляем слово «рубля»; \n",
    "- если число оканчивается на цифры 5, 6, 7, 8, 9 или 0, добавляем слово «рублей».\n",
    "\n",
    "10. Пользователь поочередно вводит координаты точки в декартовой системе координат. Определить, какой четверти принадлежит данная точка или на какой оси она находится. Расположение точки вывести на экран. Найти произведение номера четверти на расстояние от этой точки до начала координат и вывести его на экран. Если точка лежит на оси, считать, что номер четверти равен 0.\n",
    "11. Выведите значение заданного целого числа от 0 до 999 прописью. Например, «сто девяносто один» для числа 191, «одиннадцать» для числа 11. \n",
    "12. Вычислите значение выражения, которое состоит из целых чисел и знаков «+» и «-». Выражение вводится как символьная строка.\n",
    "13. Пользователь поочередно вводит 2 строки. Определите, какая строка длиннее и на сколько символов, а какая строка стоит раньше в лексикографическом порядке. Собрать результирующую строку, которая бы содержала 1 и 2 строки, разделенные переносом строки.\n",
    "14. Реализовать калькулятор, который принимает от пользователя через пробел строку следующего вида: «a op b», где a и b – некоторые числа, а ‘op’ определяет оператор и может принимать значения $«+,-,*,/,**,%»$. В зависимости от оператора с помощью форматирования строк вывести результат в виде: «a + b = 3 + 2 = 5», где была получена строка «3 + 2». Для операций возведения в степень и деления по модулю использовать вместо знака оператора соответствующие выражения. Например, для строки «2 ** 3» должно быть выведено «a в степени b = 2 в степени 3 = 8».\n",
    "15. Напишите программу, которая в зависимости от введенного пользователем числа N, осуществляет вывод N кошек на экран. Пусть 1<= N <=10. Примечание: кошки при N=3 выглядят примерно так\n",
    "```\n",
    " /\\__/\\ /\\__/\\ /\\__/\\\n",
    " /@ @\\ /@ @\\ /@ @\\\n",
    " (~~0~~) (~~0~~) (~~0~~)\n",
    "```\n",
    "16. Имеются два n – мерных вектора x и y, которые задают координаты n точек на плоскости (случайные целые числа). Найти наиболее близкие друг другу точки.\n",
    "17. Из множества целых чисел от 1 до N выделить множество N2 числа, кратные 2, множество N3 – кратные 3, множество N 6 – кратные 6 (т.е. кратные и 2 и 3), множество N 23 – кратные либо 2, либо 3.\n",
    "18. Даны m (m>1) слов. Найти общее количество заданной буквы в этих словах.\n",
    "19. Даны m (m>1) слов. В каком из них доля (в %) заданной буквы больше."
   ]
  },
  {
   "cell_type": "code",
   "execution_count": 9,
   "metadata": {},
   "outputs": [
    {
     "data": {
      "text/plain": [
       "list"
      ]
     },
     "execution_count": 9,
     "metadata": {},
     "output_type": "execute_result"
    }
   ],
   "source": [
    "month = int(input(\"Введите номер месяца: \"))\n",
    "\n",
    "if month == 12 or month == 1 or month == 2:\n",
    "    print(\"Зима\")\n",
    "elif month == 3 or month == 4 or month == 5:\n",
    "    print(\"Весна\")\n",
    "elif month == 6 or month == 7 or month == 8:\n",
    "    print(\"Лето\")\n",
    "elif month == 9 or month == 10 or month == 11:\n",
    "    print(\"Осень\")\n",
    "else:\n",
    "    print(\"Ошибка: такого месяца не существует\")"
   ]
  },
  {
   "cell_type": "code",
   "execution_count": 6,
   "metadata": {},
   "outputs": [
    {
     "name": "stdout",
     "output_type": "stream",
     "text": [
      "Минимальное значение: 4\n"
     ]
    }
   ],
   "source": [
    "a = int(input(\"Введите число a: \"))\n",
    "b = int(input(\"Введите число b: \"))\n",
    "c = int(input(\"Введите число c: \"))\n",
    "d = int(input(\"Введите число d: \"))\n",
    "\n",
    "min_value = a\n",
    "if b < min_value:\n",
    "    min_value = b\n",
    "if c < min_value:\n",
    "    min_value = c\n",
    "if d < min_value:\n",
    "    min_value = d\n",
    "\n",
    "print(\"Минимальное значение:\", min_value)"
   ]
  },
  {
   "cell_type": "code",
   "execution_count": 7,
   "metadata": {},
   "outputs": [
    {
     "name": "stdout",
     "output_type": "stream",
     "text": [
      "Хорошо (4)\n"
     ]
    }
   ],
   "source": [
    "score = int(input(\"Введите оценку: \"))\n",
    "\n",
    "if score >= 90:\n",
    "    print(\"Отлично (5)\")\n",
    "elif score >= 75:\n",
    "    print(\"Хорошо (4)\")\n",
    "elif score >= 60:\n",
    "    print(\"Удовлетворительно (3)\")\n",
    "elif score >= 40:\n",
    "    print(\"Неудовлетворительно (2)\")\n",
    "else:\n",
    "    print(\"Очень плохо (1)\")"
   ]
  },
  {
   "cell_type": "code",
   "execution_count": null,
   "metadata": {},
   "outputs": [
    {
     "name": "stdout",
     "output_type": "stream",
     "text": [
      "F=1\n"
     ]
    }
   ],
   "source": [
    "number = int(input(\"Введите трехзначное число: \"))\n",
    "\n",
    "if \"7\" in str(number):\n",
    "    print(\"F=1\")\n",
    "else:\n",
    "    print(\"F=0\")"
   ]
  },
  {
   "cell_type": "code",
   "execution_count": 10,
   "metadata": {},
   "outputs": [
    {
     "name": "stdout",
     "output_type": "stream",
     "text": [
      "Отрезки не пересекаются\n"
     ]
    }
   ],
   "source": [
    "a = float(input(\"Введите начало первого отрезка: \"))\n",
    "b = float(input(\"Введите конец первого отрезка: \"))\n",
    "c = float(input(\"Введите начало второго отрезка: \"))\n",
    "d = float(input(\"Введите конец второго отрезка: \"))\n",
    "\n",
    "if b < c or d < a:\n",
    "    print(\"Отрезки не пересекаются\")\n",
    "else:\n",
    "    intersection_start = max(a, c)\n",
    "    intersection_end = min(b, d)\n",
    "    print(\"Пересечение:\", intersection_start, \"-\", intersection_end)"
   ]
  },
  {
   "cell_type": "code",
   "execution_count": 11,
   "metadata": {},
   "outputs": [
    {
     "name": "stdout",
     "output_type": "stream",
     "text": [
      "Год не високосный\n"
     ]
    }
   ],
   "source": [
    "year = int(input(\"Введите год: \"))\n",
    "\n",
    "if year % 4 == 0 and year % 100 != 0 or year % 400 == 0:\n",
    "    print(\"Год високосный\")\n",
    "else:\n",
    "    print(\"Год не високосный\")"
   ]
  },
  {
   "cell_type": "code",
   "execution_count": 12,
   "metadata": {},
   "outputs": [
    {
     "name": "stdout",
     "output_type": "stream",
     "text": [
      "Из отрезков a, b, c можно составить треугольник\n",
      "Треугольник прямоугольный\n"
     ]
    }
   ],
   "source": [
    "a = float(input(\"Введите длину первого отрезка: \"))\n",
    "b = float(input(\"Введите длину второго отрезка: \"))\n",
    "c = float(input(\"Введите длину третьего отрезка: \"))\n",
    "\n",
    "if a + b > c and a + c > b and b + c > a:\n",
    "    print(\"Из отрезков a, b, c можно составить треугольник\")\n",
    "    if a**2 + b**2 == c**2 or a**2 + c**2 == b**2 or b**2 + c**2 == a**2:\n",
    "        print(\"Треугольник прямоугольный\")\n",
    "    else:\n",
    "        print(\"Треугольник не прямоугольный\")\n",
    "else:\n",
    "    print(\"Из отрезков a, b, c нельзя составить треугольник\")"
   ]
  },
  {
   "cell_type": "code",
   "execution_count": 14,
   "metadata": {},
   "outputs": [
    {
     "name": "stdout",
     "output_type": "stream",
     "text": [
      "Уравнение не имеет действительных решений\n"
     ]
    }
   ],
   "source": [
    "import math\n",
    "\n",
    "a = float(input(\"Введите коэффициент a: \"))\n",
    "b = float(input(\"Введите коэффициент b: \"))\n",
    "c = float(input(\"Введите коэффициент c: \"))\n",
    "\n",
    "if a == 0:\n",
    "    if b == 0:\n",
    "        if c == 0:\n",
    "            print(\"Уравнение имеет бесконечное множество решений\")\n",
    "        else:\n",
    "            print(\"Уравнение не имеет решений\")\n",
    "    else:\n",
    "        x = -c / b\n",
    "        print(\"Уравнение имеет одно решение:\", x)\n",
    "else:\n",
    "    discriminant = b**2 - 4*a*c\n",
    "    if discriminant < 0:\n",
    "        print(\"Уравнение не имеет действительных решений\")\n",
    "    elif discriminant == 0:\n",
    "        x = -b / (2*a)\n",
    "        print(\"Уравнение имеет одно действительное решение:\", x)\n",
    "    else:\n",
    "        x1 = (-b + math.sqrt(discriminant)) / (2*a)\n",
    "        x2 = (-b - math.sqrt(discriminant)) / (2*a)\n",
    "        print(\"Уравнение имеет два действительных решения:\", x1, \"и\", x2)"
   ]
  },
  {
   "cell_type": "code",
   "execution_count": 15,
   "metadata": {},
   "outputs": [
    {
     "name": "stdout",
     "output_type": "stream",
     "text": [
      "5 рублей\n"
     ]
    }
   ],
   "source": [
    "number = int(input(\"Введите число: \"))\n",
    "\n",
    "if number % 100 in [11, 12, 13, 14]:\n",
    "    print(number, \"рублей\")\n",
    "elif number % 10 == 1:\n",
    "    print(number, \"рубль\")\n",
    "elif number % 10 in [2, 3, 4]:\n",
    "    print(number, \"рубля\")\n",
    "else:\n",
    "    print(number, \"рублей\")"
   ]
  },
  {
   "cell_type": "code",
   "execution_count": 16,
   "metadata": {},
   "outputs": [
    {
     "name": "stdout",
     "output_type": "stream",
     "text": [
      "Точка принадлежит первой четверти\n",
      "Произведение номера четверти на расстояние до начала координат: 6.4031242374328485\n"
     ]
    }
   ],
   "source": [
    "x = float(input(\"Введите координату x: \"))\n",
    "y = float(input(\"Введите координату y: \"))\n",
    "\n",
    "if x > 0 and y > 0:\n",
    "    print(\"Точка принадлежит первой четверти\")\n",
    "    quadrant_number = 1\n",
    "elif x < 0 and y > 0:\n",
    "    print(\"Точка принадлежит второй четверти\")\n",
    "    quadrant_number = 2\n",
    "elif x < 0 and y < 0:\n",
    "    print(\"Точка принадлежит третьей четверти\")\n",
    "    quadrant_number = 3\n",
    "elif x > 0 and y < 0:\n",
    "    print(\"Точка принадлежит четвертой четверти\")\n",
    "    quadrant_number = 4\n",
    "elif x == 0 and y != 0:\n",
    "    print(\"Точка лежит на оси y\")\n",
    "    quadrant_number = 0\n",
    "elif x != 0 and y == 0:\n",
    "    print(\"Точка лежит на оси x\")\n",
    "    quadrant_number = 0\n",
    "else:\n",
    "    print(\"Точка лежит в начале координат\")\n",
    "    quadrant_number = 0\n",
    "\n",
    "distance = math.sqrt(x**2 + y**2)\n",
    "print(\"Произведение номера четверти на расстояние до начала координат:\", quadrant_number * distance)"
   ]
  },
  {
   "cell_type": "code",
   "execution_count": 24,
   "metadata": {},
   "outputs": [
    {
     "name": "stdout",
     "output_type": "stream",
     "text": [
      "пятьсот шестьдесят семь\n"
     ]
    }
   ],
   "source": [
    "def num_to_words(num):\n",
    "    ones = ['', 'один', 'два', 'три', 'четыре', 'пять', 'шесть', 'семь', 'восемь', 'девять', 'десять', 'одиннадцать', 'двенадцать', 'тринадцать', 'четырнадцать', 'пятнадцать', 'шестнадцать', 'семнадцать', 'восемнадцать', 'девятнадцать']\n",
    "    tens = ['', '', 'двадцать', 'тридцать', 'сорок', 'пятьдесят', 'шестьдесят', 'семьдесят', 'восемьдесят', 'девяносто']\n",
    "    hundreds = ['', 'сто', 'двести', 'триста', 'четыреста', 'пятьсот', 'шестьсот', 'семьсот', 'восемьсот', 'девятьсот']\n",
    "    if num == 0:\n",
    "        return 'ноль'\n",
    "    if num < 0:\n",
    "        return 'минус ' + num_to_words(abs(num))\n",
    "    words = ''\n",
    "    if (num // 100) > 0:\n",
    "        words += hundreds[num // 100] + ' '\n",
    "        num %= 100\n",
    "    if num > 0:\n",
    "        if num < 20:\n",
    "            words += ones[num] + ' '\n",
    "        else:\n",
    "            words += tens[num // 10] + ' '\n",
    "            num %= 10\n",
    "            if num > 0:\n",
    "                words += ones[num] + ' '\n",
    "    return words.strip()\n",
    "\n",
    "num = int(input('Введите число от 0 до 999: '))\n",
    "print(num_to_words(num))"
   ]
  },
  {
   "cell_type": "code",
   "execution_count": 23,
   "metadata": {},
   "outputs": [
    {
     "name": "stdout",
     "output_type": "stream",
     "text": [
      "Результат: 10\n"
     ]
    }
   ],
   "source": [
    "\"\"\" Вычислите значение выражения, которое состоит из целых чисел и знаков «+» и «-». Выражение вводится как символьная строка.\"\"\"\n",
    "expression = input('Введите выражение: ')\n",
    "result = eval(expression)\n",
    "print('Результат:', result)"
   ]
  },
  {
   "cell_type": "code",
   "execution_count": 20,
   "metadata": {},
   "outputs": [
    {
     "name": "stdout",
     "output_type": "stream",
     "text": [
      "Вторая строка длиннее на 1 символов\n",
      "Первая строка стоит раньше в лексикографическом порядке\n",
      "Результирующая строка:\n",
      " апп\n",
      "рлар\n"
     ]
    }
   ],
   "source": [
    "\n",
    "str1 = input('Введите первую строку: ')\n",
    "str2 = input('Введите вторую строку: ')\n",
    "\n",
    "if len(str1) > len(str2):\n",
    "    print('Первая строка длиннее на', len(str1) - len(str2), 'символов')\n",
    "elif len(str2) > len(str1):\n",
    "    print('Вторая строка длиннее на', len(str2) - len(str1), 'символов')\n",
    "else:\n",
    "    print('Строки равны по длине')\n",
    "\n",
    "if str1 < str2:\n",
    "    print('Первая строка стоит раньше в лексикографическом порядке')\n",
    "elif str2 < str1:\n",
    "    print('Вторая строка стоит раньше в лексикографическом порядке')\n",
    "else:\n",
    "    print('Строки равны в лексикографическом порядке')\n",
    "\n",
    "result_str = str1 + '\\n' + str2\n",
    "print('Результирующая строка:\\n', result_str)"
   ]
  },
  {
   "cell_type": "code",
   "execution_count": 26,
   "metadata": {},
   "outputs": [
    {
     "name": "stdout",
     "output_type": "stream",
     "text": [
      "10.0 - 5.0 = 5.0\n"
     ]
    }
   ],
   "source": [
    "\"\"\"Реализовать калькулятор, который принимает от пользователя через пробел строку следующего вида: «a op b», где a и b – некоторые числа, \n",
    "а ‘op’ определяет оператор и может принимать значения $«+,-,*,/,**,%»$. \n",
    "В зависимости от оператора с помощью форматирования строк вывести результат в виде: «a + b = 3 + 2 = 5», где была получена строка «3 + 2».\n",
    "Для операций возведения в степень и деления по модулю использовать вместо знака оператора соответствующие выражения. \n",
    "Например, для строки «2 ** 3» должно быть выведено «a в степени b = 2 в степени 3 = 8».\"\"\"\n",
    "import operator\n",
    "\n",
    "ops = {\n",
    "    '+': operator.add,\n",
    "    '-': operator.sub,\n",
    "    '*': operator.mul,\n",
    "    '/': operator.truediv,\n",
    "    '**': operator.pow,\n",
    "    '%': operator.mod\n",
    "}\n",
    "\n",
    "expression = input('Введите выражение: ')\n",
    "a, op, b = expression.split()\n",
    "a = float(a)\n",
    "b = float(b)\n",
    "\n",
    "if op == '**':\n",
    "    op_str = 'в степени'\n",
    "    result = ops[op](a, b)\n",
    "else:\n",
    "    op_str = op\n",
    "    if b == 0 and op == '/':\n",
    "        print('Ошибка: деление на ноль')\n",
    "        exit()\n",
    "    result = ops[op](a, b)\n",
    "\n",
    "print(f'{a} {op_str} {b} = {result}')"
   ]
  },
  {
   "cell_type": "code",
   "execution_count": 15,
   "metadata": {},
   "outputs": [
    {
     "name": "stdout",
     "output_type": "stream",
     "text": [
      "Множество чисел, кратных 2: {2, 4, 6, 8, 10, 12}\n",
      "Множество чисел, кратных 3: {9, 3, 12, 6}\n",
      "Множество чисел, кратных 6: {12, 6}\n",
      "Множество чисел, кратных 2 или 3: {2, 3, 4, 6, 8, 9, 10, 12}\n"
     ]
    }
   ],
   "source": [
    "\"\"\" Из множества целых чисел от 1 до N выделить множество N2 числа, кратные 2, множество N3 – кратные 3, множество N 6 – кратные 6 (т.е. кратные и 2 и 3), множество N 23 – кратные либо 2, либо 3.\"\"\"\n",
    "n = int(input('Введите число N: '))\n",
    "N2 = set(range(2, n+1, 2))\n",
    "N3 = set(range(3, n+1, 3))\n",
    "N6 = N2.intersection(N3)\n",
    "N23 = N2.union(N3)\n",
    "\n",
    "print('Множество чисел, кратных 2:', N2)\n",
    "print('Множество чисел, кратных 3:', N3)\n",
    "print('Множество чисел, кратных 6:', N6)\n",
    "print('Множество чисел, кратных 2 или 3:', N23)"
   ]
  },
  {
   "cell_type": "code",
   "execution_count": 29,
   "metadata": {},
   "outputs": [
    {
     "name": "stdout",
     "output_type": "stream",
     "text": [
      "Буква \"g\" встречается в словах 3 раз\n"
     ]
    }
   ],
   "source": [
    "\"\"\"Даны m (m>1) слов. Найти общее количество заданной буквы в этих словах.\"\"\"\n",
    "m = int(input('Введите количество слов: '))\n",
    "letter = input('Введите букву: ')\n",
    "count = 0\n",
    "\n",
    "for i in range(m):\n",
    "    word = input(f'Введите слово {i+1}: ')\n",
    "    count += word.count(letter)\n",
    "\n",
    "print(f'Буква \"{letter}\" встречается в словах {count} раз')"
   ]
  },
  {
   "cell_type": "code",
   "execution_count": 30,
   "metadata": {},
   "outputs": [
    {
     "name": "stdout",
     "output_type": "stream",
     "text": [
      "Слово с наибольшей долей буквы \"s\" - \"sdf\", доля - 33.33%\n"
     ]
    }
   ],
   "source": [
    "\"\"\"Даны m (m>1) слов. В каком из них доля (в %) заданной буквы больше.\"\"\"\"\"\n",
    "\n",
    "m = int(input('Введите количество слов: '))\n",
    "letter = input('Введите букву: ')\n",
    "max_percent = 0\n",
    "max_word = ''\n",
    "\n",
    "for i in range(m):\n",
    "    word = input(f'Введите слово {i+1}: ')\n",
    "    count = word.count(letter)\n",
    "    percent = count / len(word) * 100\n",
    "    if percent > max_percent:\n",
    "        max_percent = percent\n",
    "        max_word = word\n",
    "\n",
    "print(f'Слово с наибольшей долей буквы \"{letter}\" - \"{max_word}\", доля - {max_percent:.2f}%')"
   ]
  }
 ],
 "metadata": {
  "kernelspec": {
   "display_name": "Python 3 (ipykernel)",
   "language": "python",
   "name": "python3"
  },
  "language_info": {
   "codemirror_mode": {
    "name": "ipython",
    "version": 3
   },
   "file_extension": ".py",
   "mimetype": "text/x-python",
   "name": "python",
   "nbconvert_exporter": "python",
   "pygments_lexer": "ipython3",
   "version": "3.11.5"
  },
  "toc": {
   "base_numbering": 1,
   "nav_menu": {},
   "number_sections": true,
   "sideBar": true,
   "skip_h1_title": false,
   "title_cell": "Table of Contents",
   "title_sidebar": "Contents",
   "toc_cell": true,
   "toc_position": {},
   "toc_section_display": true,
   "toc_window_display": false
  },
  "varInspector": {
   "cols": {
    "lenName": 16,
    "lenType": 16,
    "lenVar": 40
   },
   "kernels_config": {
    "python": {
     "delete_cmd_postfix": "",
     "delete_cmd_prefix": "del ",
     "library": "var_list.py",
     "varRefreshCmd": "print(var_dic_list())"
    },
    "r": {
     "delete_cmd_postfix": ") ",
     "delete_cmd_prefix": "rm(",
     "library": "var_list.r",
     "varRefreshCmd": "cat(var_dic_list()) "
    }
   },
   "types_to_exclude": [
    "module",
    "function",
    "builtin_function_or_method",
    "instance",
    "_Feature"
   ],
   "window_display": false
  }
 },
 "nbformat": 4,
 "nbformat_minor": 4
}
